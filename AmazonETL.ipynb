{
 "cells": [
  {
   "metadata": {},
   "cell_type": "markdown",
   "source": [
    "# Building ETL Pipeline\n",
    "1. Extract from CSV\n",
    "2. Transform + clean data\n",
    "3. Create db\n",
    "4. Load data to db"
   ],
   "id": "8a77807f92f26ee"
  },
  {
   "metadata": {},
   "cell_type": "markdown",
   "source": "# Extract data from csv",
   "id": "af14d46e4b87087a"
  },
  {
   "metadata": {
    "ExecuteTime": {
     "end_time": "2025-05-19T17:17:31.416957Z",
     "start_time": "2025-05-19T17:17:29.433225Z"
    }
   },
   "cell_type": "code",
   "source": [
    "import pandas as pd\n",
    "import numpy as np\n",
    "import psycopg2 as sql\n",
    "from sqlalchemy import create_engine"
   ],
   "id": "fbc121e30a2defb3",
   "outputs": [
    {
     "name": "stderr",
     "output_type": "stream",
     "text": [
      "C:\\Users\\Lenovo\\AppData\\Local\\Programs\\Python\\Python313\\Lib\\site-packages\\tqdm\\auto.py:21: TqdmWarning: IProgress not found. Please update jupyter and ipywidgets. See https://ipywidgets.readthedocs.io/en/stable/user_install.html\n",
      "  from .autonotebook import tqdm as notebook_tqdm\n"
     ]
    }
   ],
   "execution_count": 3
  },
  {
   "metadata": {
    "ExecuteTime": {
     "end_time": "2025-05-19T18:35:49.542975Z",
     "start_time": "2025-05-19T18:35:49.470563Z"
    }
   },
   "cell_type": "code",
   "source": [
    "df = pd.read_csv(\"amazon_prime_titles.csv\")\n",
    "df.head()"
   ],
   "id": "666d5a95d0af2740",
   "outputs": [
    {
     "data": {
      "text/plain": [
       "  show_id   type                 title        director  \\\n",
       "0      s1  Movie   The Grand Seduction    Don McKellar   \n",
       "1      s2  Movie  Take Care Good Night    Girish Joshi   \n",
       "2      s3  Movie  Secrets of Deception     Josh Webber   \n",
       "3      s4  Movie    Pink: Staying True  Sonia Anderson   \n",
       "4      s5  Movie         Monster Maker    Giles Foster   \n",
       "\n",
       "                                                cast         country  \\\n",
       "0     Brendan Gleeson, Taylor Kitsch, Gordon Pinsent          Canada   \n",
       "1   Mahesh Manjrekar, Abhay Mahajan, Sachin Khedekar           India   \n",
       "2  Tom Sizemore, Lorenzo Lamas, Robert LaSardo, R...   United States   \n",
       "3  Interviews with: Pink, Adele, Beyoncé, Britney...   United States   \n",
       "4  Harry Dean Stanton, Kieran O'Brien, George Cos...  United Kingdom   \n",
       "\n",
       "       date_added  release_year rating duration                listed_in  \\\n",
       "0  March 30, 2021          2014    NaN  113 min            Comedy, Drama   \n",
       "1  March 30, 2021          2018    13+  110 min     Drama, International   \n",
       "2  March 30, 2021          2017    NaN   74 min  Action, Drama, Suspense   \n",
       "3  March 30, 2021          2014    NaN   69 min              Documentary   \n",
       "4  March 30, 2021          1989    NaN   45 min           Drama, Fantasy   \n",
       "\n",
       "                                         description  \n",
       "0  A small fishing village must procure a local d...  \n",
       "1  A Metro Family decides to fight a Cyber Crimin...  \n",
       "2  After a man discovers his wife is cheating on ...  \n",
       "3  Pink breaks the mold once again, bringing her ...  \n",
       "4  Teenage Matt Banting wants to work with a famo...  "
      ],
      "text/html": [
       "<div>\n",
       "<style scoped>\n",
       "    .dataframe tbody tr th:only-of-type {\n",
       "        vertical-align: middle;\n",
       "    }\n",
       "\n",
       "    .dataframe tbody tr th {\n",
       "        vertical-align: top;\n",
       "    }\n",
       "\n",
       "    .dataframe thead th {\n",
       "        text-align: right;\n",
       "    }\n",
       "</style>\n",
       "<table border=\"1\" class=\"dataframe\">\n",
       "  <thead>\n",
       "    <tr style=\"text-align: right;\">\n",
       "      <th></th>\n",
       "      <th>show_id</th>\n",
       "      <th>type</th>\n",
       "      <th>title</th>\n",
       "      <th>director</th>\n",
       "      <th>cast</th>\n",
       "      <th>country</th>\n",
       "      <th>date_added</th>\n",
       "      <th>release_year</th>\n",
       "      <th>rating</th>\n",
       "      <th>duration</th>\n",
       "      <th>listed_in</th>\n",
       "      <th>description</th>\n",
       "    </tr>\n",
       "  </thead>\n",
       "  <tbody>\n",
       "    <tr>\n",
       "      <th>0</th>\n",
       "      <td>s1</td>\n",
       "      <td>Movie</td>\n",
       "      <td>The Grand Seduction</td>\n",
       "      <td>Don McKellar</td>\n",
       "      <td>Brendan Gleeson, Taylor Kitsch, Gordon Pinsent</td>\n",
       "      <td>Canada</td>\n",
       "      <td>March 30, 2021</td>\n",
       "      <td>2014</td>\n",
       "      <td>NaN</td>\n",
       "      <td>113 min</td>\n",
       "      <td>Comedy, Drama</td>\n",
       "      <td>A small fishing village must procure a local d...</td>\n",
       "    </tr>\n",
       "    <tr>\n",
       "      <th>1</th>\n",
       "      <td>s2</td>\n",
       "      <td>Movie</td>\n",
       "      <td>Take Care Good Night</td>\n",
       "      <td>Girish Joshi</td>\n",
       "      <td>Mahesh Manjrekar, Abhay Mahajan, Sachin Khedekar</td>\n",
       "      <td>India</td>\n",
       "      <td>March 30, 2021</td>\n",
       "      <td>2018</td>\n",
       "      <td>13+</td>\n",
       "      <td>110 min</td>\n",
       "      <td>Drama, International</td>\n",
       "      <td>A Metro Family decides to fight a Cyber Crimin...</td>\n",
       "    </tr>\n",
       "    <tr>\n",
       "      <th>2</th>\n",
       "      <td>s3</td>\n",
       "      <td>Movie</td>\n",
       "      <td>Secrets of Deception</td>\n",
       "      <td>Josh Webber</td>\n",
       "      <td>Tom Sizemore, Lorenzo Lamas, Robert LaSardo, R...</td>\n",
       "      <td>United States</td>\n",
       "      <td>March 30, 2021</td>\n",
       "      <td>2017</td>\n",
       "      <td>NaN</td>\n",
       "      <td>74 min</td>\n",
       "      <td>Action, Drama, Suspense</td>\n",
       "      <td>After a man discovers his wife is cheating on ...</td>\n",
       "    </tr>\n",
       "    <tr>\n",
       "      <th>3</th>\n",
       "      <td>s4</td>\n",
       "      <td>Movie</td>\n",
       "      <td>Pink: Staying True</td>\n",
       "      <td>Sonia Anderson</td>\n",
       "      <td>Interviews with: Pink, Adele, Beyoncé, Britney...</td>\n",
       "      <td>United States</td>\n",
       "      <td>March 30, 2021</td>\n",
       "      <td>2014</td>\n",
       "      <td>NaN</td>\n",
       "      <td>69 min</td>\n",
       "      <td>Documentary</td>\n",
       "      <td>Pink breaks the mold once again, bringing her ...</td>\n",
       "    </tr>\n",
       "    <tr>\n",
       "      <th>4</th>\n",
       "      <td>s5</td>\n",
       "      <td>Movie</td>\n",
       "      <td>Monster Maker</td>\n",
       "      <td>Giles Foster</td>\n",
       "      <td>Harry Dean Stanton, Kieran O'Brien, George Cos...</td>\n",
       "      <td>United Kingdom</td>\n",
       "      <td>March 30, 2021</td>\n",
       "      <td>1989</td>\n",
       "      <td>NaN</td>\n",
       "      <td>45 min</td>\n",
       "      <td>Drama, Fantasy</td>\n",
       "      <td>Teenage Matt Banting wants to work with a famo...</td>\n",
       "    </tr>\n",
       "  </tbody>\n",
       "</table>\n",
       "</div>"
      ]
     },
     "execution_count": 108,
     "metadata": {},
     "output_type": "execute_result"
    }
   ],
   "execution_count": 108
  },
  {
   "metadata": {
    "ExecuteTime": {
     "end_time": "2025-05-19T18:35:51.800338Z",
     "start_time": "2025-05-19T18:35:51.791518Z"
    }
   },
   "cell_type": "code",
   "source": "df.tail()",
   "id": "d8614a4c88f3d236",
   "outputs": [
    {
     "data": {
      "text/plain": [
       "     show_id     type                    title         director  \\\n",
       "9663   s9664    Movie      Pride Of The Bowery  Joseph H. Lewis   \n",
       "9664   s9665  TV Show            Planet Patrol              NaN   \n",
       "9665   s9666    Movie                  Outpost     Steve Barker   \n",
       "9666   s9667  TV Show  Maradona: Blessed Dream              NaN   \n",
       "9667   s9668    Movie              Harry Brown    Daniel Barber   \n",
       "\n",
       "                                                   cast country date_added  \\\n",
       "9663                           Leo Gorcey, Bobby Jordan     NaN        NaN   \n",
       "9664  DICK VOSBURGH, RONNIE STEVENS, LIBBY MORRIS, M...     NaN        NaN   \n",
       "9665  Ray Stevenson, Julian Wadham, Richard Brake, M...     NaN        NaN   \n",
       "9666  Esteban Recagno, Ezequiel Stremiz, Luciano Vit...     NaN        NaN   \n",
       "9667  Michael Caine, Emily Mortimer, Joseph Gilgun, ...     NaN        NaN   \n",
       "\n",
       "      release_year rating   duration                listed_in  \\\n",
       "9663          1940     7+     60 min                   Comedy   \n",
       "9664          2018    13+  4 Seasons                 TV Shows   \n",
       "9665          2008      R     90 min                   Action   \n",
       "9666          2021  TV-MA   1 Season            Drama, Sports   \n",
       "9667          2010      R    103 min  Action, Drama, Suspense   \n",
       "\n",
       "                                            description  \n",
       "9663  New York City street principles get an East Si...  \n",
       "9664  This is Earth, 2100AD - and these are the adve...  \n",
       "9665  In war-torn Eastern Europe, a world-weary grou...  \n",
       "9666  The series tells the story of Diego Maradona, ...  \n",
       "9667  Harry Brown, starring two-time Academy Award w...  "
      ],
      "text/html": [
       "<div>\n",
       "<style scoped>\n",
       "    .dataframe tbody tr th:only-of-type {\n",
       "        vertical-align: middle;\n",
       "    }\n",
       "\n",
       "    .dataframe tbody tr th {\n",
       "        vertical-align: top;\n",
       "    }\n",
       "\n",
       "    .dataframe thead th {\n",
       "        text-align: right;\n",
       "    }\n",
       "</style>\n",
       "<table border=\"1\" class=\"dataframe\">\n",
       "  <thead>\n",
       "    <tr style=\"text-align: right;\">\n",
       "      <th></th>\n",
       "      <th>show_id</th>\n",
       "      <th>type</th>\n",
       "      <th>title</th>\n",
       "      <th>director</th>\n",
       "      <th>cast</th>\n",
       "      <th>country</th>\n",
       "      <th>date_added</th>\n",
       "      <th>release_year</th>\n",
       "      <th>rating</th>\n",
       "      <th>duration</th>\n",
       "      <th>listed_in</th>\n",
       "      <th>description</th>\n",
       "    </tr>\n",
       "  </thead>\n",
       "  <tbody>\n",
       "    <tr>\n",
       "      <th>9663</th>\n",
       "      <td>s9664</td>\n",
       "      <td>Movie</td>\n",
       "      <td>Pride Of The Bowery</td>\n",
       "      <td>Joseph H. Lewis</td>\n",
       "      <td>Leo Gorcey, Bobby Jordan</td>\n",
       "      <td>NaN</td>\n",
       "      <td>NaN</td>\n",
       "      <td>1940</td>\n",
       "      <td>7+</td>\n",
       "      <td>60 min</td>\n",
       "      <td>Comedy</td>\n",
       "      <td>New York City street principles get an East Si...</td>\n",
       "    </tr>\n",
       "    <tr>\n",
       "      <th>9664</th>\n",
       "      <td>s9665</td>\n",
       "      <td>TV Show</td>\n",
       "      <td>Planet Patrol</td>\n",
       "      <td>NaN</td>\n",
       "      <td>DICK VOSBURGH, RONNIE STEVENS, LIBBY MORRIS, M...</td>\n",
       "      <td>NaN</td>\n",
       "      <td>NaN</td>\n",
       "      <td>2018</td>\n",
       "      <td>13+</td>\n",
       "      <td>4 Seasons</td>\n",
       "      <td>TV Shows</td>\n",
       "      <td>This is Earth, 2100AD - and these are the adve...</td>\n",
       "    </tr>\n",
       "    <tr>\n",
       "      <th>9665</th>\n",
       "      <td>s9666</td>\n",
       "      <td>Movie</td>\n",
       "      <td>Outpost</td>\n",
       "      <td>Steve Barker</td>\n",
       "      <td>Ray Stevenson, Julian Wadham, Richard Brake, M...</td>\n",
       "      <td>NaN</td>\n",
       "      <td>NaN</td>\n",
       "      <td>2008</td>\n",
       "      <td>R</td>\n",
       "      <td>90 min</td>\n",
       "      <td>Action</td>\n",
       "      <td>In war-torn Eastern Europe, a world-weary grou...</td>\n",
       "    </tr>\n",
       "    <tr>\n",
       "      <th>9666</th>\n",
       "      <td>s9667</td>\n",
       "      <td>TV Show</td>\n",
       "      <td>Maradona: Blessed Dream</td>\n",
       "      <td>NaN</td>\n",
       "      <td>Esteban Recagno, Ezequiel Stremiz, Luciano Vit...</td>\n",
       "      <td>NaN</td>\n",
       "      <td>NaN</td>\n",
       "      <td>2021</td>\n",
       "      <td>TV-MA</td>\n",
       "      <td>1 Season</td>\n",
       "      <td>Drama, Sports</td>\n",
       "      <td>The series tells the story of Diego Maradona, ...</td>\n",
       "    </tr>\n",
       "    <tr>\n",
       "      <th>9667</th>\n",
       "      <td>s9668</td>\n",
       "      <td>Movie</td>\n",
       "      <td>Harry Brown</td>\n",
       "      <td>Daniel Barber</td>\n",
       "      <td>Michael Caine, Emily Mortimer, Joseph Gilgun, ...</td>\n",
       "      <td>NaN</td>\n",
       "      <td>NaN</td>\n",
       "      <td>2010</td>\n",
       "      <td>R</td>\n",
       "      <td>103 min</td>\n",
       "      <td>Action, Drama, Suspense</td>\n",
       "      <td>Harry Brown, starring two-time Academy Award w...</td>\n",
       "    </tr>\n",
       "  </tbody>\n",
       "</table>\n",
       "</div>"
      ]
     },
     "execution_count": 109,
     "metadata": {},
     "output_type": "execute_result"
    }
   ],
   "execution_count": 109
  },
  {
   "metadata": {
    "ExecuteTime": {
     "end_time": "2025-05-19T18:35:54.237343Z",
     "start_time": "2025-05-19T18:35:54.227050Z"
    }
   },
   "cell_type": "code",
   "source": "df.info()",
   "id": "fddf650d1d92a94e",
   "outputs": [
    {
     "name": "stdout",
     "output_type": "stream",
     "text": [
      "<class 'pandas.core.frame.DataFrame'>\n",
      "RangeIndex: 9668 entries, 0 to 9667\n",
      "Data columns (total 12 columns):\n",
      " #   Column        Non-Null Count  Dtype \n",
      "---  ------        --------------  ----- \n",
      " 0   show_id       9668 non-null   object\n",
      " 1   type          9668 non-null   object\n",
      " 2   title         9668 non-null   object\n",
      " 3   director      7585 non-null   object\n",
      " 4   cast          8435 non-null   object\n",
      " 5   country       672 non-null    object\n",
      " 6   date_added    155 non-null    object\n",
      " 7   release_year  9668 non-null   int64 \n",
      " 8   rating        9331 non-null   object\n",
      " 9   duration      9668 non-null   object\n",
      " 10  listed_in     9668 non-null   object\n",
      " 11  description   9668 non-null   object\n",
      "dtypes: int64(1), object(11)\n",
      "memory usage: 906.5+ KB\n"
     ]
    }
   ],
   "execution_count": 110
  },
  {
   "metadata": {},
   "cell_type": "markdown",
   "source": "# Transform and clean data",
   "id": "c539e40cee435a56"
  },
  {
   "metadata": {},
   "cell_type": "markdown",
   "source": "## Delete unused columns",
   "id": "26a6952b34b4c229"
  },
  {
   "metadata": {
    "ExecuteTime": {
     "end_time": "2025-05-19T18:36:06.889259Z",
     "start_time": "2025-05-19T18:36:06.884229Z"
    }
   },
   "cell_type": "code",
   "source": "df.drop(columns=['description', 'cast', 'date_added'], inplace=True)",
   "id": "a46ed1e8f805e247",
   "outputs": [],
   "execution_count": 111
  },
  {
   "metadata": {},
   "cell_type": "markdown",
   "source": "## Deal with duplicates",
   "id": "9a6f4cbee4cc8d04"
  },
  {
   "metadata": {
    "ExecuteTime": {
     "end_time": "2025-05-19T18:36:08.957149Z",
     "start_time": "2025-05-19T18:36:08.941473Z"
    }
   },
   "cell_type": "code",
   "source": "df.duplicated().sum()",
   "id": "7ced6a8082a3e7ad",
   "outputs": [
    {
     "data": {
      "text/plain": [
       "np.int64(0)"
      ]
     },
     "execution_count": 112,
     "metadata": {},
     "output_type": "execute_result"
    }
   ],
   "execution_count": 112
  },
  {
   "metadata": {},
   "cell_type": "markdown",
   "source": "## Deal with missing data",
   "id": "d7c4201ac40b9952"
  },
  {
   "metadata": {
    "ExecuteTime": {
     "end_time": "2025-05-19T18:36:19.558889Z",
     "start_time": "2025-05-19T18:36:19.549301Z"
    }
   },
   "cell_type": "code",
   "source": "df.isna().sum()",
   "id": "6a02aefc6289d191",
   "outputs": [
    {
     "data": {
      "text/plain": [
       "show_id         0\n",
       "type            0\n",
       "title           0\n",
       "director        0\n",
       "country         0\n",
       "release_year    0\n",
       "rating          0\n",
       "duration        0\n",
       "listed_in       0\n",
       "dtype: int64"
      ]
     },
     "execution_count": 120,
     "metadata": {},
     "output_type": "execute_result"
    }
   ],
   "execution_count": 120
  },
  {
   "metadata": {},
   "cell_type": "markdown",
   "source": "Fill nan values for director with unknown",
   "id": "a77d885ae3fe7fd1"
  },
  {
   "metadata": {
    "ExecuteTime": {
     "end_time": "2025-05-19T18:36:14.728464Z",
     "start_time": "2025-05-19T18:36:14.724098Z"
    }
   },
   "cell_type": "code",
   "source": "df.fillna({\"director\":\"Unknown\"}, inplace=True)",
   "id": "5108c5e5330e917f",
   "outputs": [],
   "execution_count": 114
  },
  {
   "metadata": {
    "ExecuteTime": {
     "end_time": "2025-05-19T18:36:14.747412Z",
     "start_time": "2025-05-19T18:36:14.740197Z"
    }
   },
   "cell_type": "code",
   "source": "df = df.drop(df[df['director'].str.len().fillna(0) < 2].index)",
   "id": "ef547f99c47a2ddf",
   "outputs": [],
   "execution_count": 115
  },
  {
   "metadata": {},
   "cell_type": "markdown",
   "source": "Fill country according to the director",
   "id": "a7b5bbbe6a4ba940"
  },
  {
   "metadata": {
    "ExecuteTime": {
     "end_time": "2025-05-19T18:36:14.761553Z",
     "start_time": "2025-05-19T18:36:14.757658Z"
    }
   },
   "cell_type": "code",
   "source": "df.shape",
   "id": "67a950b2fbd70a59",
   "outputs": [
    {
     "data": {
      "text/plain": [
       "(9652, 9)"
      ]
     },
     "execution_count": 116,
     "metadata": {},
     "output_type": "execute_result"
    }
   ],
   "execution_count": 116
  },
  {
   "metadata": {},
   "cell_type": "markdown",
   "source": "Fills missing values in the 'country' column by using the first known country associated with each director.\n",
   "id": "76fb59ab27fd82c2"
  },
  {
   "metadata": {
    "ExecuteTime": {
     "end_time": "2025-05-19T18:36:14.779994Z",
     "start_time": "2025-05-19T18:36:14.772104Z"
    }
   },
   "cell_type": "code",
   "source": [
    "df['country'] = df['country'].fillna(\n",
    "    df.groupby('director')['country'].transform('first')\n",
    ")"
   ],
   "id": "f8f1d9a95eac248e",
   "outputs": [],
   "execution_count": 117
  },
  {
   "metadata": {},
   "cell_type": "markdown",
   "source": "Fill rest of the countries with the most popular",
   "id": "7666f6e2d5fd8d69"
  },
  {
   "metadata": {
    "ExecuteTime": {
     "end_time": "2025-05-19T18:36:14.794530Z",
     "start_time": "2025-05-19T18:36:14.790274Z"
    }
   },
   "cell_type": "code",
   "source": "df['country']=df['country'].fillna(df['country'].mode()[0])",
   "id": "443c613d9d6124c5",
   "outputs": [],
   "execution_count": 118
  },
  {
   "metadata": {},
   "cell_type": "markdown",
   "source": "Fill missing ratings with the most popular one",
   "id": "1962a03cafb407bb"
  },
  {
   "metadata": {
    "ExecuteTime": {
     "end_time": "2025-05-19T18:36:14.824930Z",
     "start_time": "2025-05-19T18:36:14.821073Z"
    }
   },
   "cell_type": "code",
   "source": "df['rating']=df['rating'].fillna(df['rating'].mode()[0])",
   "id": "73170f8dd1053712",
   "outputs": [],
   "execution_count": 119
  },
  {
   "metadata": {},
   "cell_type": "markdown",
   "source": "## Delete index",
   "id": "ebe9cc392fcde521"
  },
  {
   "metadata": {
    "ExecuteTime": {
     "end_time": "2025-05-19T18:36:23.296520Z",
     "start_time": "2025-05-19T18:36:23.291414Z"
    }
   },
   "cell_type": "code",
   "source": "df.drop(columns=['show_id'], inplace=True)\n",
   "id": "875e2daf58582981",
   "outputs": [],
   "execution_count": 121
  },
  {
   "metadata": {},
   "cell_type": "markdown",
   "source": "## Rename columns",
   "id": "214d76ca26152970"
  },
  {
   "metadata": {
    "ExecuteTime": {
     "end_time": "2025-05-19T18:36:27.346062Z",
     "start_time": "2025-05-19T18:36:27.343339Z"
    }
   },
   "cell_type": "code",
   "source": "df.rename(columns={'show_id':'id', \"listed_in\": \"genre\"}, inplace=True)",
   "id": "8c987d76380b9e3d",
   "outputs": [],
   "execution_count": 122
  },
  {
   "metadata": {},
   "cell_type": "markdown",
   "source": "## Transform rating",
   "id": "1b88f58bdb8b602f"
  },
  {
   "metadata": {
    "ExecuteTime": {
     "end_time": "2025-05-19T18:36:29.885112Z",
     "start_time": "2025-05-19T18:36:29.881015Z"
    }
   },
   "cell_type": "code",
   "source": "df['rating'].unique()",
   "id": "3b5ae74d237c0d91",
   "outputs": [
    {
     "data": {
      "text/plain": [
       "array(['13+', 'ALL', '18+', 'R', 'TV-Y', 'TV-Y7', 'NR', '16+', 'TV-PG',\n",
       "       '7+', 'TV-14', 'TV-NR', 'TV-G', 'PG-13', 'TV-MA', 'G', 'PG',\n",
       "       'NC-17', 'UNRATED', '16', 'AGES_16_', 'AGES_18_', 'ALL_AGES',\n",
       "       'NOT_RATE'], dtype=object)"
      ]
     },
     "execution_count": 123,
     "metadata": {},
     "output_type": "execute_result"
    }
   ],
   "execution_count": 123
  },
  {
   "metadata": {
    "ExecuteTime": {
     "end_time": "2025-05-19T18:36:29.906995Z",
     "start_time": "2025-05-19T18:36:29.897729Z"
    }
   },
   "cell_type": "code",
   "source": [
    "df[\"rating\"]=df[\"rating\"].replace({\n",
    "    \"All\": \"0+\",\n",
    "    \"R\": \"17+\",\n",
    "    \"TV-Y\": \"0+\",\n",
    "    'TV-Y7': \"7+\",\n",
    "    'NR': 'UNRATED',\n",
    "    'TV-PG': \"10+\",\n",
    "    'TV-14': \"14+\",\n",
    "    'TV-NR': 'UNRATED',\n",
    "    'TV-G': \"0+\",\n",
    "    'PG-13': \"13+\",\n",
    "    'TV-MA': \"17+\",\n",
    "    'G':\"0+\",\n",
    "    'PG': \"8+\",\n",
    "    'NC-17': \"18+\",\n",
    "    '16': \"16+\",\n",
    "    'AGES_16_': \"16+\",\n",
    "    'AGES_18_': \"18+\",\n",
    "    'ALL_AGES': \"0+\",\n",
    "    'NOT_RATE': \"UNRATED\"\n",
    "})"
   ],
   "id": "69d94d22a667ba0d",
   "outputs": [],
   "execution_count": 124
  },
  {
   "metadata": {},
   "cell_type": "markdown",
   "source": "## Transform duration",
   "id": "7d0f62a984055ce5"
  },
  {
   "metadata": {
    "ExecuteTime": {
     "end_time": "2025-05-19T18:36:31.911791Z",
     "start_time": "2025-05-19T18:36:31.906719Z"
    }
   },
   "cell_type": "code",
   "source": "df[\"duration\"].unique()",
   "id": "d4328d47dd6ec00a",
   "outputs": [
    {
     "data": {
      "text/plain": [
       "array(['113 min', '110 min', '74 min', '69 min', '45 min', '52 min',\n",
       "       '98 min', '131 min', '87 min', '92 min', '88 min', '93 min',\n",
       "       '94 min', '46 min', '96 min', '1 Season', '104 min', '62 min',\n",
       "       '50 min', '3 Seasons', '2 Seasons', '86 min', '36 min', '37 min',\n",
       "       '103 min', '9 min', '18 min', '14 min', '20 min', '19 min',\n",
       "       '22 min', '60 min', '6 min', '54 min', '5 min', '84 min',\n",
       "       '126 min', '125 min', '109 min', '89 min', '85 min', '56 min',\n",
       "       '40 min', '111 min', '33 min', '34 min', '95 min', '99 min',\n",
       "       '78 min', '4 Seasons', '77 min', '55 min', '53 min', '115 min',\n",
       "       '58 min', '49 min', '135 min', '91 min', '64 min', '59 min',\n",
       "       '48 min', '122 min', '90 min', '102 min', '65 min', '114 min',\n",
       "       '136 min', '70 min', '138 min', '100 min', '480 min', '4 min',\n",
       "       '30 min', '152 min', '68 min', '57 min', '7 Seasons', '31 min',\n",
       "       '151 min', '149 min', '9 Seasons', '141 min', '121 min', '79 min',\n",
       "       '140 min', '51 min', '106 min', '75 min', '27 min', '107 min',\n",
       "       '108 min', '38 min', '157 min', '43 min', '118 min', '139 min',\n",
       "       '6 Seasons', '112 min', '15 min', '72 min', '5 Seasons', '116 min',\n",
       "       '142 min', '71 min', '42 min', '81 min', '32 min', '66 min',\n",
       "       '127 min', '159 min', '67 min', '29 min', '132 min', '101 min',\n",
       "       '164 min', '73 min', '61 min', '80 min', '83 min', '44 min',\n",
       "       '120 min', '26 min', '97 min', '23 min', '105 min', '82 min',\n",
       "       '11 min', '148 min', '161 min', '123 min', '29 Seasons', '0 min',\n",
       "       '124 min', '143 min', '35 min', '47 min', '170 min', '19 Seasons',\n",
       "       '3 min', '146 min', '601 min', '24 min', '21 Seasons', '154 min',\n",
       "       '128 min', '133 min', '153 min', '119 min', '63 min', '169 min',\n",
       "       '174 min', '144 min', '7 min', '137 min', '76 min', '39 min',\n",
       "       '8 Seasons', '12 Seasons', '134 min', '163 min', '1 min',\n",
       "       '145 min', '162 min', '41 min', '147 min', '155 min', '117 min',\n",
       "       '167 min', '11 Seasons', '28 min', '25 min', '180 min', '2 min',\n",
       "       '541 min', '240 min', '129 min', '178 min', '171 min', '21 min',\n",
       "       '172 min', '173 min', '10 min', '166 min', '160 min', '130 min',\n",
       "       '479 min', '13 min', '8 min', '10 Seasons', '17 min', '16 min',\n",
       "       '158 min', '183 min', '12 min', '14 Seasons', '150 min', '481 min',\n",
       "       '181 min', '156 min', '540 min', '177 min', '550 min', '485 min',\n",
       "       '176 min', '193 min', '165 min', '175 min', '188 min', '187 min',\n",
       "       '168 min', '190 min', '185 min', '209 min', '192 min', '182 min',\n",
       "       '207 min', '269 min', '15 Seasons', '191 min'], dtype=object)"
      ]
     },
     "execution_count": 125,
     "metadata": {},
     "output_type": "execute_result"
    }
   ],
   "execution_count": 125
  },
  {
   "metadata": {},
   "cell_type": "markdown",
   "source": "Take just number from duration in minutes",
   "id": "17c346fec2cf1fc6"
  },
  {
   "metadata": {
    "ExecuteTime": {
     "end_time": "2025-05-19T18:36:31.945124Z",
     "start_time": "2025-05-19T18:36:31.938536Z"
    }
   },
   "cell_type": "code",
   "source": "df[\"duration_in_min\"] = [ dur.split(\"min\")[0].strip() if \"min\" in dur else 0 for dur in df[\"duration\"] ]",
   "id": "4e54ad7875c42c35",
   "outputs": [],
   "execution_count": 126
  },
  {
   "metadata": {},
   "cell_type": "markdown",
   "source": "Take just number from duration in seasons",
   "id": "bdc4e1476cdb60b2"
  },
  {
   "metadata": {
    "ExecuteTime": {
     "end_time": "2025-05-19T18:36:31.961317Z",
     "start_time": "2025-05-19T18:36:31.956423Z"
    }
   },
   "cell_type": "code",
   "source": "df[\"duration_in_seasons\"] = [ dur.split(\"Season\")[0].strip() if \"Season\" in dur else 0 for dur in df[\"duration\"] ]",
   "id": "5aa74bd8973f20a7",
   "outputs": [],
   "execution_count": 127
  },
  {
   "metadata": {
    "ExecuteTime": {
     "end_time": "2025-05-19T18:36:31.979473Z",
     "start_time": "2025-05-19T18:36:31.971787Z"
    }
   },
   "cell_type": "code",
   "source": "df.head()",
   "id": "e7447eb9a8645585",
   "outputs": [
    {
     "data": {
      "text/plain": [
       "    type                 title        director         country  release_year  \\\n",
       "0  Movie   The Grand Seduction    Don McKellar          Canada          2014   \n",
       "1  Movie  Take Care Good Night    Girish Joshi           India          2018   \n",
       "2  Movie  Secrets of Deception     Josh Webber   United States          2017   \n",
       "3  Movie    Pink: Staying True  Sonia Anderson   United States          2014   \n",
       "4  Movie         Monster Maker    Giles Foster  United Kingdom          1989   \n",
       "\n",
       "  rating duration                    genre duration_in_min duration_in_seasons  \n",
       "0    13+  113 min            Comedy, Drama             113                   0  \n",
       "1    13+  110 min     Drama, International             110                   0  \n",
       "2    13+   74 min  Action, Drama, Suspense              74                   0  \n",
       "3    13+   69 min              Documentary              69                   0  \n",
       "4    13+   45 min           Drama, Fantasy              45                   0  "
      ],
      "text/html": [
       "<div>\n",
       "<style scoped>\n",
       "    .dataframe tbody tr th:only-of-type {\n",
       "        vertical-align: middle;\n",
       "    }\n",
       "\n",
       "    .dataframe tbody tr th {\n",
       "        vertical-align: top;\n",
       "    }\n",
       "\n",
       "    .dataframe thead th {\n",
       "        text-align: right;\n",
       "    }\n",
       "</style>\n",
       "<table border=\"1\" class=\"dataframe\">\n",
       "  <thead>\n",
       "    <tr style=\"text-align: right;\">\n",
       "      <th></th>\n",
       "      <th>type</th>\n",
       "      <th>title</th>\n",
       "      <th>director</th>\n",
       "      <th>country</th>\n",
       "      <th>release_year</th>\n",
       "      <th>rating</th>\n",
       "      <th>duration</th>\n",
       "      <th>genre</th>\n",
       "      <th>duration_in_min</th>\n",
       "      <th>duration_in_seasons</th>\n",
       "    </tr>\n",
       "  </thead>\n",
       "  <tbody>\n",
       "    <tr>\n",
       "      <th>0</th>\n",
       "      <td>Movie</td>\n",
       "      <td>The Grand Seduction</td>\n",
       "      <td>Don McKellar</td>\n",
       "      <td>Canada</td>\n",
       "      <td>2014</td>\n",
       "      <td>13+</td>\n",
       "      <td>113 min</td>\n",
       "      <td>Comedy, Drama</td>\n",
       "      <td>113</td>\n",
       "      <td>0</td>\n",
       "    </tr>\n",
       "    <tr>\n",
       "      <th>1</th>\n",
       "      <td>Movie</td>\n",
       "      <td>Take Care Good Night</td>\n",
       "      <td>Girish Joshi</td>\n",
       "      <td>India</td>\n",
       "      <td>2018</td>\n",
       "      <td>13+</td>\n",
       "      <td>110 min</td>\n",
       "      <td>Drama, International</td>\n",
       "      <td>110</td>\n",
       "      <td>0</td>\n",
       "    </tr>\n",
       "    <tr>\n",
       "      <th>2</th>\n",
       "      <td>Movie</td>\n",
       "      <td>Secrets of Deception</td>\n",
       "      <td>Josh Webber</td>\n",
       "      <td>United States</td>\n",
       "      <td>2017</td>\n",
       "      <td>13+</td>\n",
       "      <td>74 min</td>\n",
       "      <td>Action, Drama, Suspense</td>\n",
       "      <td>74</td>\n",
       "      <td>0</td>\n",
       "    </tr>\n",
       "    <tr>\n",
       "      <th>3</th>\n",
       "      <td>Movie</td>\n",
       "      <td>Pink: Staying True</td>\n",
       "      <td>Sonia Anderson</td>\n",
       "      <td>United States</td>\n",
       "      <td>2014</td>\n",
       "      <td>13+</td>\n",
       "      <td>69 min</td>\n",
       "      <td>Documentary</td>\n",
       "      <td>69</td>\n",
       "      <td>0</td>\n",
       "    </tr>\n",
       "    <tr>\n",
       "      <th>4</th>\n",
       "      <td>Movie</td>\n",
       "      <td>Monster Maker</td>\n",
       "      <td>Giles Foster</td>\n",
       "      <td>United Kingdom</td>\n",
       "      <td>1989</td>\n",
       "      <td>13+</td>\n",
       "      <td>45 min</td>\n",
       "      <td>Drama, Fantasy</td>\n",
       "      <td>45</td>\n",
       "      <td>0</td>\n",
       "    </tr>\n",
       "  </tbody>\n",
       "</table>\n",
       "</div>"
      ]
     },
     "execution_count": 128,
     "metadata": {},
     "output_type": "execute_result"
    }
   ],
   "execution_count": 128
  },
  {
   "metadata": {
    "ExecuteTime": {
     "end_time": "2025-05-19T18:36:32.003979Z",
     "start_time": "2025-05-19T18:36:31.995894Z"
    }
   },
   "cell_type": "code",
   "source": "df.tail()",
   "id": "cad31ec0693c9410",
   "outputs": [
    {
     "data": {
      "text/plain": [
       "         type                    title         director country  release_year  \\\n",
       "9663    Movie      Pride Of The Bowery  Joseph H. Lewis   Italy          1940   \n",
       "9664  TV Show            Planet Patrol          Unknown   Italy          2018   \n",
       "9665    Movie                  Outpost     Steve Barker   Italy          2008   \n",
       "9666  TV Show  Maradona: Blessed Dream          Unknown   Italy          2021   \n",
       "9667    Movie              Harry Brown    Daniel Barber   Italy          2010   \n",
       "\n",
       "     rating   duration                    genre duration_in_min  \\\n",
       "9663     7+     60 min                   Comedy              60   \n",
       "9664    13+  4 Seasons                 TV Shows               0   \n",
       "9665    17+     90 min                   Action              90   \n",
       "9666    17+   1 Season            Drama, Sports               0   \n",
       "9667    17+    103 min  Action, Drama, Suspense             103   \n",
       "\n",
       "     duration_in_seasons  \n",
       "9663                   0  \n",
       "9664                   4  \n",
       "9665                   0  \n",
       "9666                   1  \n",
       "9667                   0  "
      ],
      "text/html": [
       "<div>\n",
       "<style scoped>\n",
       "    .dataframe tbody tr th:only-of-type {\n",
       "        vertical-align: middle;\n",
       "    }\n",
       "\n",
       "    .dataframe tbody tr th {\n",
       "        vertical-align: top;\n",
       "    }\n",
       "\n",
       "    .dataframe thead th {\n",
       "        text-align: right;\n",
       "    }\n",
       "</style>\n",
       "<table border=\"1\" class=\"dataframe\">\n",
       "  <thead>\n",
       "    <tr style=\"text-align: right;\">\n",
       "      <th></th>\n",
       "      <th>type</th>\n",
       "      <th>title</th>\n",
       "      <th>director</th>\n",
       "      <th>country</th>\n",
       "      <th>release_year</th>\n",
       "      <th>rating</th>\n",
       "      <th>duration</th>\n",
       "      <th>genre</th>\n",
       "      <th>duration_in_min</th>\n",
       "      <th>duration_in_seasons</th>\n",
       "    </tr>\n",
       "  </thead>\n",
       "  <tbody>\n",
       "    <tr>\n",
       "      <th>9663</th>\n",
       "      <td>Movie</td>\n",
       "      <td>Pride Of The Bowery</td>\n",
       "      <td>Joseph H. Lewis</td>\n",
       "      <td>Italy</td>\n",
       "      <td>1940</td>\n",
       "      <td>7+</td>\n",
       "      <td>60 min</td>\n",
       "      <td>Comedy</td>\n",
       "      <td>60</td>\n",
       "      <td>0</td>\n",
       "    </tr>\n",
       "    <tr>\n",
       "      <th>9664</th>\n",
       "      <td>TV Show</td>\n",
       "      <td>Planet Patrol</td>\n",
       "      <td>Unknown</td>\n",
       "      <td>Italy</td>\n",
       "      <td>2018</td>\n",
       "      <td>13+</td>\n",
       "      <td>4 Seasons</td>\n",
       "      <td>TV Shows</td>\n",
       "      <td>0</td>\n",
       "      <td>4</td>\n",
       "    </tr>\n",
       "    <tr>\n",
       "      <th>9665</th>\n",
       "      <td>Movie</td>\n",
       "      <td>Outpost</td>\n",
       "      <td>Steve Barker</td>\n",
       "      <td>Italy</td>\n",
       "      <td>2008</td>\n",
       "      <td>17+</td>\n",
       "      <td>90 min</td>\n",
       "      <td>Action</td>\n",
       "      <td>90</td>\n",
       "      <td>0</td>\n",
       "    </tr>\n",
       "    <tr>\n",
       "      <th>9666</th>\n",
       "      <td>TV Show</td>\n",
       "      <td>Maradona: Blessed Dream</td>\n",
       "      <td>Unknown</td>\n",
       "      <td>Italy</td>\n",
       "      <td>2021</td>\n",
       "      <td>17+</td>\n",
       "      <td>1 Season</td>\n",
       "      <td>Drama, Sports</td>\n",
       "      <td>0</td>\n",
       "      <td>1</td>\n",
       "    </tr>\n",
       "    <tr>\n",
       "      <th>9667</th>\n",
       "      <td>Movie</td>\n",
       "      <td>Harry Brown</td>\n",
       "      <td>Daniel Barber</td>\n",
       "      <td>Italy</td>\n",
       "      <td>2010</td>\n",
       "      <td>17+</td>\n",
       "      <td>103 min</td>\n",
       "      <td>Action, Drama, Suspense</td>\n",
       "      <td>103</td>\n",
       "      <td>0</td>\n",
       "    </tr>\n",
       "  </tbody>\n",
       "</table>\n",
       "</div>"
      ]
     },
     "execution_count": 129,
     "metadata": {},
     "output_type": "execute_result"
    }
   ],
   "execution_count": 129
  },
  {
   "metadata": {
    "ExecuteTime": {
     "end_time": "2025-05-19T18:36:32.019897Z",
     "start_time": "2025-05-19T18:36:32.015884Z"
    }
   },
   "cell_type": "code",
   "source": "df.drop(columns=['duration'], inplace=True)",
   "id": "b1bfec208af06f6",
   "outputs": [],
   "execution_count": 130
  },
  {
   "metadata": {},
   "cell_type": "markdown",
   "source": "## Add new col id",
   "id": "530dbe65798ab2bb"
  },
  {
   "metadata": {
    "ExecuteTime": {
     "end_time": "2025-05-19T18:36:49.864698Z",
     "start_time": "2025-05-19T18:36:49.862057Z"
    }
   },
   "cell_type": "code",
   "source": "df[\"id\"] = df.index",
   "id": "9a29db57b3fc2304",
   "outputs": [],
   "execution_count": 131
  },
  {
   "metadata": {},
   "cell_type": "markdown",
   "source": "Move to the left as first col",
   "id": "b6b000958c79ed94"
  },
  {
   "metadata": {
    "ExecuteTime": {
     "end_time": "2025-05-19T19:15:54.451026Z",
     "start_time": "2025-05-19T19:15:54.444843Z"
    }
   },
   "cell_type": "code",
   "source": "df = df[['id'] + [col for col in df.columns if col != 'id']]",
   "id": "6f60ce9db822fd74",
   "outputs": [],
   "execution_count": 143
  },
  {
   "metadata": {
    "ExecuteTime": {
     "end_time": "2025-05-19T19:15:55.698064Z",
     "start_time": "2025-05-19T19:15:55.689751Z"
    }
   },
   "cell_type": "code",
   "source": "df.head()",
   "id": "4359cea638d25f88",
   "outputs": [
    {
     "data": {
      "text/plain": [
       "   id   type                 title        director         country  \\\n",
       "0   0  Movie   The Grand Seduction    Don McKellar          Canada   \n",
       "1   1  Movie  Take Care Good Night    Girish Joshi           India   \n",
       "2   2  Movie  Secrets of Deception     Josh Webber   United States   \n",
       "3   3  Movie    Pink: Staying True  Sonia Anderson   United States   \n",
       "4   4  Movie         Monster Maker    Giles Foster  United Kingdom   \n",
       "\n",
       "   release_year rating                    genre duration_in_min  \\\n",
       "0          2014    13+            Comedy, Drama             113   \n",
       "1          2018    13+     Drama, International             110   \n",
       "2          2017    13+  Action, Drama, Suspense              74   \n",
       "3          2014    13+              Documentary              69   \n",
       "4          1989    13+           Drama, Fantasy              45   \n",
       "\n",
       "  duration_in_seasons  \n",
       "0                   0  \n",
       "1                   0  \n",
       "2                   0  \n",
       "3                   0  \n",
       "4                   0  "
      ],
      "text/html": [
       "<div>\n",
       "<style scoped>\n",
       "    .dataframe tbody tr th:only-of-type {\n",
       "        vertical-align: middle;\n",
       "    }\n",
       "\n",
       "    .dataframe tbody tr th {\n",
       "        vertical-align: top;\n",
       "    }\n",
       "\n",
       "    .dataframe thead th {\n",
       "        text-align: right;\n",
       "    }\n",
       "</style>\n",
       "<table border=\"1\" class=\"dataframe\">\n",
       "  <thead>\n",
       "    <tr style=\"text-align: right;\">\n",
       "      <th></th>\n",
       "      <th>id</th>\n",
       "      <th>type</th>\n",
       "      <th>title</th>\n",
       "      <th>director</th>\n",
       "      <th>country</th>\n",
       "      <th>release_year</th>\n",
       "      <th>rating</th>\n",
       "      <th>genre</th>\n",
       "      <th>duration_in_min</th>\n",
       "      <th>duration_in_seasons</th>\n",
       "    </tr>\n",
       "  </thead>\n",
       "  <tbody>\n",
       "    <tr>\n",
       "      <th>0</th>\n",
       "      <td>0</td>\n",
       "      <td>Movie</td>\n",
       "      <td>The Grand Seduction</td>\n",
       "      <td>Don McKellar</td>\n",
       "      <td>Canada</td>\n",
       "      <td>2014</td>\n",
       "      <td>13+</td>\n",
       "      <td>Comedy, Drama</td>\n",
       "      <td>113</td>\n",
       "      <td>0</td>\n",
       "    </tr>\n",
       "    <tr>\n",
       "      <th>1</th>\n",
       "      <td>1</td>\n",
       "      <td>Movie</td>\n",
       "      <td>Take Care Good Night</td>\n",
       "      <td>Girish Joshi</td>\n",
       "      <td>India</td>\n",
       "      <td>2018</td>\n",
       "      <td>13+</td>\n",
       "      <td>Drama, International</td>\n",
       "      <td>110</td>\n",
       "      <td>0</td>\n",
       "    </tr>\n",
       "    <tr>\n",
       "      <th>2</th>\n",
       "      <td>2</td>\n",
       "      <td>Movie</td>\n",
       "      <td>Secrets of Deception</td>\n",
       "      <td>Josh Webber</td>\n",
       "      <td>United States</td>\n",
       "      <td>2017</td>\n",
       "      <td>13+</td>\n",
       "      <td>Action, Drama, Suspense</td>\n",
       "      <td>74</td>\n",
       "      <td>0</td>\n",
       "    </tr>\n",
       "    <tr>\n",
       "      <th>3</th>\n",
       "      <td>3</td>\n",
       "      <td>Movie</td>\n",
       "      <td>Pink: Staying True</td>\n",
       "      <td>Sonia Anderson</td>\n",
       "      <td>United States</td>\n",
       "      <td>2014</td>\n",
       "      <td>13+</td>\n",
       "      <td>Documentary</td>\n",
       "      <td>69</td>\n",
       "      <td>0</td>\n",
       "    </tr>\n",
       "    <tr>\n",
       "      <th>4</th>\n",
       "      <td>4</td>\n",
       "      <td>Movie</td>\n",
       "      <td>Monster Maker</td>\n",
       "      <td>Giles Foster</td>\n",
       "      <td>United Kingdom</td>\n",
       "      <td>1989</td>\n",
       "      <td>13+</td>\n",
       "      <td>Drama, Fantasy</td>\n",
       "      <td>45</td>\n",
       "      <td>0</td>\n",
       "    </tr>\n",
       "  </tbody>\n",
       "</table>\n",
       "</div>"
      ]
     },
     "execution_count": 144,
     "metadata": {},
     "output_type": "execute_result"
    }
   ],
   "execution_count": 144
  },
  {
   "metadata": {},
   "cell_type": "markdown",
   "source": "# Load data to csv",
   "id": "51b3e1ac3deb8d77"
  },
  {
   "metadata": {
    "ExecuteTime": {
     "end_time": "2025-05-19T19:28:32.445516Z",
     "start_time": "2025-05-19T19:28:32.375300Z"
    }
   },
   "cell_type": "code",
   "source": "df.to_csv(\"amazon_prime_clean.csv\",index=True,encoding=\"utf-8\")",
   "id": "3c791ef773ee12b8",
   "outputs": [],
   "execution_count": 147
  }
 ],
 "metadata": {
  "kernelspec": {
   "display_name": "Python 3",
   "language": "python",
   "name": "python3"
  },
  "language_info": {
   "codemirror_mode": {
    "name": "ipython",
    "version": 2
   },
   "file_extension": ".py",
   "mimetype": "text/x-python",
   "name": "python",
   "nbconvert_exporter": "python",
   "pygments_lexer": "ipython2",
   "version": "2.7.6"
  }
 },
 "nbformat": 4,
 "nbformat_minor": 5
}
